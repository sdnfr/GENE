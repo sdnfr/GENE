{
 "cells": [
  {
   "cell_type": "code",
   "execution_count": null,
   "metadata": {},
   "outputs": [],
   "source": [
    "# Copyright 2019 Google LLC\n",
    "# Copyright 2025 Anonymized Authors\n",
    "\n",
    "# Licensed under the Apache License, Version 2.0 (the \"License\"); \n",
    "# you may not use this file except in compliance with the License. \n",
    "# You may obtain a copy of the License at\n",
    "# https://www.apache.org/licenses/LICENSE-2.0\n",
    "\"\"\"\n",
    "This notebook evaluates greedy selection in combination with different mutation techniques.\n",
    "\n",
    "Requirements: \n",
    "\n",
    "-This notebook requires that tensorflow and numpy be installed within the \n",
    "Python environment you are running this script in. \n",
    "\n",
    "\"\"\"\n",
    "import matplotlib.pyplot as plt\n",
    "import sys; sys.path.append('..')\n",
    "from utils.nas_utils import load_nasbench, mutate_spec, run_xevolution, greedy_selection, crossover, NASBench, guided_mutation\n",
    "from utils.plotting import plot_all\n",
    "from IPython.display import clear_output\n",
    "\n",
    "nasb = load_nasbench()\n"
   ]
  },
  {
   "cell_type": "code",
   "execution_count": null,
   "metadata": {},
   "outputs": [],
   "source": [
    "# here, we test out different mutation methods\n",
    "# our mutation functions have to follow \n",
    "# def mutation(nasbench, population) -> mutated_population \n",
    "\n",
    "def regular_mutation(nasbench: NASBench, population, mutation_rate=0.5):\n",
    "    \"\"\"Mutates each individual of a population.\"\"\"\n",
    "    mutated = []\n",
    "    for p in population:\n",
    "        new_spec = mutate_spec(p, nasbench, mutation_rate)\n",
    "        mutated.append(new_spec)\n",
    "    return mutated\n"
   ]
  },
  {
   "cell_type": "code",
   "execution_count": null,
   "metadata": {},
   "outputs": [],
   "source": [
    "# comparing different methods\n",
    "\n",
    "m1 = lambda nasb, crossed_parents: regular_mutation(nasb, crossed_parents, 0.5)\n",
    "m2 = lambda nasb, crossed_parents: guided_mutation(nasb, crossed_parents)\n",
    "\n",
    "\n",
    "exp1 = {\n",
    "    \"data\": \n",
    "    {\n",
    "        \"regular mutation\" : [[],\"Light Blue\"],\n",
    "        \"guided mutation\" : [[],\"Dark Blue\"],\n",
    "    },\n",
    "    \"config\": \n",
    "    {\n",
    "        \"budget\" : int(1e6),\n",
    "        \"limits\" : (0.9365, 0.9435),\n",
    "        \"n\" : 100,\n",
    "        \"print_every\" : 2,\n",
    "        \"confidence_intervall\" : True,\n",
    "        \"pvalue\" : 0.05,\n",
    "        \"significant_areas\": False,\n",
    "        \"dataset\" : \"test\",\n",
    "   }\n",
    "}\n",
    "\n",
    "budget = exp1[\"config\"][\"budget\"]\n",
    "for run in range(exp1[\"config\"][\"n\"]):\n",
    "    nasb.reset_budget_counters()\n",
    "    times, best_valid, best_test = run_xevolution(nasb, greedy_selection, crossover, m1, budget, 50)\n",
    "    exp1[\"data\"][\"regular mutation\"][0].append((times, best_valid, best_test))\n",
    "\n",
    "    nasb.reset_budget_counters()\n",
    "    times, best_valid, best_test = run_xevolution(nasb, greedy_selection, crossover, m2, budget, 50)\n",
    "    exp1[\"data\"][\"guided mutation\"][0].append((times, best_valid, best_test))\n",
    "\n",
    "    if (run % exp1[\"config\"][\"print_every\"] == 0):\n",
    "        clear_output(wait=True)\n",
    "        fig, ax = plt.subplots()\n",
    "        plot_all(exp1, ax)\n",
    "        plt.show()\n",
    "        print('Running repeat %d' % (run + 1))\n",
    "\n",
    "clear_output(wait=True)\n",
    "fig, ax = plt.subplots()\n",
    "plot_all(exp1, ax)\n",
    "plt.show()"
   ]
  }
 ],
 "metadata": {
  "kernelspec": {
   "display_name": ".venv",
   "language": "python",
   "name": "python3"
  },
  "language_info": {
   "codemirror_mode": {
    "name": "ipython",
    "version": 3
   },
   "file_extension": ".py",
   "mimetype": "text/x-python",
   "name": "python",
   "nbconvert_exporter": "python",
   "pygments_lexer": "ipython3",
   "version": "3.11.4"
  }
 },
 "nbformat": 4,
 "nbformat_minor": 2
}
