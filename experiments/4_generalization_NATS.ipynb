{
 "cells": [
  {
   "cell_type": "code",
   "execution_count": null,
   "metadata": {},
   "outputs": [],
   "source": [
    "# Copyright (c) Xuanyi Dong [GitHub D-X-Y], 2020.06 \n",
    "# Copyright 2025 Anonymized Authors\n",
    "\n",
    "# Licensed under the Apache License, Version 2.0 (the \"License\"); \n",
    "# you may not use this file except in compliance with the License. \n",
    "# You may obtain a copy of the License at\n",
    "# https://www.apache.org/licenses/LICENSE-2.0\n",
    "\"\"\"\n",
    "This experiment tests the generalization ability of GENE testing it against \n",
    "regularized evolution and REINFORCE as implemented in Dong et al (2021). \n",
    "\n",
    "Requirements: \n",
    "\n",
    "- This notebook requires that torchvision, torch, tensorflow and numpy be\n",
    " installed within the Python environment you are running this script in. \n",
    "\n",
    "- This notebook requires the submodule autodl. See setup in README\n",
    "\n",
    "- make sure to have outputs saved at correct location ../outputs/search-tss/\n",
    " \n",
    "\"\"\"\n",
    "import matplotlib.pyplot as plt\n",
    "\n",
    "import sys; sys.path.append('..')\n",
    "from utils.plotting import visualize_curve\n",
    "from utils.nas_utils import run_algorithm\n",
    "from nats_bench import create\n",
    "\n",
    "api = create(None, \"tss\", fast_mode=True, verbose=False)"
   ]
  },
  {
   "cell_type": "code",
   "execution_count": null,
   "metadata": {},
   "outputs": [],
   "source": [
    "algorithms = [\n",
    "    \"GENE\",\n",
    "    \"regularized evolution\",\n",
    "    \"reinforce\",\n",
    "]\n",
    "datasets = {\n",
    "    \"cifar10\" : 200000,\n",
    "    \"cifar100\" : 400000,\n",
    "    \"ImageNet16-120\": 120000,\n",
    "}\n",
    "\n",
    "n = 1000\n",
    "\n",
    "for algorithm in algorithms:\n",
    "    for dataset, budget in datasets.items():\n",
    "        run_algorithm(algorithm, dataset, budget, n)"
   ]
  },
  {
   "cell_type": "code",
   "execution_count": null,
   "metadata": {},
   "outputs": [],
   "source": [
    "# exp4_4: compare on all datasets\n",
    "ylims = {\n",
    "        \"cifar10\": (93.8,94.5),\n",
    "        \"cifar100\": (70,73),\n",
    "        \"ImageNet16-120\": (42,46)}\n",
    "\n",
    "\n",
    "exp4_4 = {\n",
    "    \"data\": \n",
    "    {\n",
    "        \"RE\" : [\"R-EA-SS10\",\"Dark Gray\"],\n",
    "        \"REINFORCE\" : [\"REINFORCE-0.01\",\"Red Orange\"],\n",
    "        \"GENE\" : [\"GENE\",\"Dark Blue\"],\n",
    "\n",
    "    },\n",
    "    \"config\": \n",
    "    {\n",
    "        \"limits\" : ylims,\n",
    "        \"n\" : 1000,\n",
    "        \"confidence_intervall\" : True,\n",
    "        \"pvalue\" : 0.05,\n",
    "   }\n",
    "}\n",
    "\n",
    "# multiple plots\n",
    "fig, axes = plt.subplots(1, 3, figsize=(15, 5))\n",
    "visualize_curve(api, exp4_4, \"cifar10-T200000\", axes[0])\n",
    "visualize_curve(api, exp4_4, \"cifar100-T400000\", axes[1])\n",
    "visualize_curve(api, exp4_4, \"ImageNet16-120-T120000\", axes[2])\n",
    "\n",
    "plt.savefig('nats_all.png', dpi=500, bbox_inches='tight')\n",
    "plt.show()"
   ]
  }
 ],
 "metadata": {
  "kernelspec": {
   "display_name": ".venv",
   "language": "python",
   "name": "python3"
  },
  "language_info": {
   "codemirror_mode": {
    "name": "ipython",
    "version": 3
   },
   "file_extension": ".py",
   "mimetype": "text/x-python",
   "name": "python",
   "nbconvert_exporter": "python",
   "pygments_lexer": "ipython3",
   "version": "3.11.4"
  }
 },
 "nbformat": 4,
 "nbformat_minor": 2
}
